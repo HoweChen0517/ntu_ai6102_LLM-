{
 "cells": [
  {
   "cell_type": "code",
   "execution_count": 66,
   "metadata": {},
   "outputs": [],
   "source": [
    "import os\n",
    "import json\n",
    "import pandas as pd\n",
    "import numpy as np\n",
    "import seaborn as sns\n",
    "import matplotlib.pyplot as plt"
   ]
  },
  {
   "cell_type": "code",
   "execution_count": 2,
   "metadata": {},
   "outputs": [
    {
     "name": "stdout",
     "output_type": "stream",
     "text": [
      "/Users/howechen/Project/ntu_ai6102_LLM_privacy_leakage_detection\n"
     ]
    }
   ],
   "source": [
    "if os.getcwd().endswith(\"notebook\"):\n",
    "    os.chdir(\"..\")\n",
    "print(os.getcwd())"
   ]
  },
  {
   "cell_type": "code",
   "execution_count": 3,
   "metadata": {},
   "outputs": [
    {
     "data": {
      "text/plain": [
       "['lr_ngram_',\n",
       " '.DS_Store',\n",
       " 'lr_tfidf_',\n",
       " 'rf_tfidf_',\n",
       " 'rf_ngram_',\n",
       " 'svm_tfidf_',\n",
       " 'svm_ngram_']"
      ]
     },
     "execution_count": 3,
     "metadata": {},
     "output_type": "execute_result"
    }
   ],
   "source": [
    "os.listdir('results')"
   ]
  },
  {
   "cell_type": "code",
   "execution_count": 19,
   "metadata": {},
   "outputs": [],
   "source": [
    "test_result_base = []\n",
    "test_result_cv = []\n",
    "results_dir_name = ['lr_ngram_',\n",
    "                    'lr_tfidf_',\n",
    "                    'rf_tfidf_',\n",
    "                    'rf_ngram_',\n",
    "                    'svm_tfidf_',\n",
    "                    'svm_ngram_']\n",
    "for result_dir in results_dir_name:\n",
    "    dir_path = os.path.join('results', result_dir)\n",
    "    file_list = os.listdir(dir_path)\n",
    "    for file in file_list:\n",
    "        if file.startswith(f'{result_dir}base_metrics'):\n",
    "            with open(os.path.join(dir_path, file)) as f:\n",
    "                test_result_base.append(json.load(f))\n",
    "        elif file.startswith(f'{result_dir}cv_metrics'):\n",
    "            with open(os.path.join(dir_path, file)) as f:\n",
    "                test_result_cv.append(json.load(f))"
   ]
  },
  {
   "cell_type": "code",
   "execution_count": 20,
   "metadata": {},
   "outputs": [],
   "source": [
    "test_result_base = pd.DataFrame(test_result_base)\n",
    "test_result_cv = pd.DataFrame(test_result_cv)\n",
    "test_result_base['model'] = ['lr_ngram_', 'lr_tfidf_', 'rf_tfidf_', 'rf_ngram_', 'svm_tfidf_', 'svm_ngram_']\n",
    "test_result_cv['model'] = ['lr_ngram_', 'lr_tfidf_', 'rf_tfidf_', 'rf_ngram_', 'svm_tfidf_', 'svm_ngram_']\n",
    "test_result_base['model'] = test_result_base['model'].apply(lambda x: str(x)[:-1])\n",
    "test_result_cv['model'] = test_result_cv['model'].apply(lambda x: str(x)[:-1])\n",
    "test_result_base = test_result_base.set_index('model')\n",
    "test_result_cv = test_result_cv.set_index('model')\n",
    "result_comparison = pd.concat([test_result_base, test_result_cv], axis=1, keys=['base', 'cv'])\n",
    "test_result_base = test_result_base.apply(lambda x: round(x, 3))\n",
    "test_result_cv = test_result_cv.apply(lambda x: round(x, 3))\n",
    "test_result_base = test_result_base.sort_values('accuracy', ascending=False)\n",
    "test_result_cv = test_result_cv.sort_values('accuracy', ascending=False)"
   ]
  },
  {
   "cell_type": "code",
   "execution_count": 21,
   "metadata": {},
   "outputs": [
    {
     "data": {
      "text/html": [
       "<div>\n",
       "<style scoped>\n",
       "    .dataframe tbody tr th:only-of-type {\n",
       "        vertical-align: middle;\n",
       "    }\n",
       "\n",
       "    .dataframe tbody tr th {\n",
       "        vertical-align: top;\n",
       "    }\n",
       "\n",
       "    .dataframe thead th {\n",
       "        text-align: right;\n",
       "    }\n",
       "</style>\n",
       "<table border=\"1\" class=\"dataframe\">\n",
       "  <thead>\n",
       "    <tr style=\"text-align: right;\">\n",
       "      <th></th>\n",
       "      <th>accuracy</th>\n",
       "      <th>precision</th>\n",
       "      <th>recall</th>\n",
       "      <th>f1_score</th>\n",
       "    </tr>\n",
       "    <tr>\n",
       "      <th>model</th>\n",
       "      <th></th>\n",
       "      <th></th>\n",
       "      <th></th>\n",
       "      <th></th>\n",
       "    </tr>\n",
       "  </thead>\n",
       "  <tbody>\n",
       "    <tr>\n",
       "      <th>svm_ngram</th>\n",
       "      <td>0.917</td>\n",
       "      <td>0.881</td>\n",
       "      <td>0.967</td>\n",
       "      <td>0.922</td>\n",
       "    </tr>\n",
       "    <tr>\n",
       "      <th>svm_tfidf</th>\n",
       "      <td>0.908</td>\n",
       "      <td>0.879</td>\n",
       "      <td>0.951</td>\n",
       "      <td>0.913</td>\n",
       "    </tr>\n",
       "    <tr>\n",
       "      <th>lr_ngram</th>\n",
       "      <td>0.892</td>\n",
       "      <td>0.875</td>\n",
       "      <td>0.918</td>\n",
       "      <td>0.896</td>\n",
       "    </tr>\n",
       "    <tr>\n",
       "      <th>rf_ngram</th>\n",
       "      <td>0.883</td>\n",
       "      <td>0.873</td>\n",
       "      <td>0.902</td>\n",
       "      <td>0.887</td>\n",
       "    </tr>\n",
       "    <tr>\n",
       "      <th>rf_tfidf</th>\n",
       "      <td>0.867</td>\n",
       "      <td>0.817</td>\n",
       "      <td>0.951</td>\n",
       "      <td>0.879</td>\n",
       "    </tr>\n",
       "    <tr>\n",
       "      <th>lr_tfidf</th>\n",
       "      <td>0.850</td>\n",
       "      <td>0.821</td>\n",
       "      <td>0.902</td>\n",
       "      <td>0.859</td>\n",
       "    </tr>\n",
       "  </tbody>\n",
       "</table>\n",
       "</div>"
      ],
      "text/plain": [
       "           accuracy  precision  recall  f1_score\n",
       "model                                           \n",
       "svm_ngram     0.917      0.881   0.967     0.922\n",
       "svm_tfidf     0.908      0.879   0.951     0.913\n",
       "lr_ngram      0.892      0.875   0.918     0.896\n",
       "rf_ngram      0.883      0.873   0.902     0.887\n",
       "rf_tfidf      0.867      0.817   0.951     0.879\n",
       "lr_tfidf      0.850      0.821   0.902     0.859"
      ]
     },
     "execution_count": 21,
     "metadata": {},
     "output_type": "execute_result"
    }
   ],
   "source": [
    "test_result_base"
   ]
  },
  {
   "cell_type": "code",
   "execution_count": 22,
   "metadata": {},
   "outputs": [
    {
     "data": {
      "text/html": [
       "<div>\n",
       "<style scoped>\n",
       "    .dataframe tbody tr th:only-of-type {\n",
       "        vertical-align: middle;\n",
       "    }\n",
       "\n",
       "    .dataframe tbody tr th {\n",
       "        vertical-align: top;\n",
       "    }\n",
       "\n",
       "    .dataframe thead th {\n",
       "        text-align: right;\n",
       "    }\n",
       "</style>\n",
       "<table border=\"1\" class=\"dataframe\">\n",
       "  <thead>\n",
       "    <tr style=\"text-align: right;\">\n",
       "      <th></th>\n",
       "      <th>accuracy</th>\n",
       "      <th>precision</th>\n",
       "      <th>recall</th>\n",
       "      <th>f1_score</th>\n",
       "    </tr>\n",
       "    <tr>\n",
       "      <th>model</th>\n",
       "      <th></th>\n",
       "      <th></th>\n",
       "      <th></th>\n",
       "      <th></th>\n",
       "    </tr>\n",
       "  </thead>\n",
       "  <tbody>\n",
       "    <tr>\n",
       "      <th>svm_tfidf</th>\n",
       "      <td>0.925</td>\n",
       "      <td>0.894</td>\n",
       "      <td>0.967</td>\n",
       "      <td>0.929</td>\n",
       "    </tr>\n",
       "    <tr>\n",
       "      <th>lr_tfidf</th>\n",
       "      <td>0.917</td>\n",
       "      <td>0.881</td>\n",
       "      <td>0.967</td>\n",
       "      <td>0.922</td>\n",
       "    </tr>\n",
       "    <tr>\n",
       "      <th>rf_ngram</th>\n",
       "      <td>0.917</td>\n",
       "      <td>0.892</td>\n",
       "      <td>0.951</td>\n",
       "      <td>0.921</td>\n",
       "    </tr>\n",
       "    <tr>\n",
       "      <th>svm_ngram</th>\n",
       "      <td>0.917</td>\n",
       "      <td>0.892</td>\n",
       "      <td>0.951</td>\n",
       "      <td>0.921</td>\n",
       "    </tr>\n",
       "    <tr>\n",
       "      <th>lr_ngram</th>\n",
       "      <td>0.908</td>\n",
       "      <td>0.879</td>\n",
       "      <td>0.951</td>\n",
       "      <td>0.913</td>\n",
       "    </tr>\n",
       "    <tr>\n",
       "      <th>rf_tfidf</th>\n",
       "      <td>0.892</td>\n",
       "      <td>0.853</td>\n",
       "      <td>0.951</td>\n",
       "      <td>0.899</td>\n",
       "    </tr>\n",
       "  </tbody>\n",
       "</table>\n",
       "</div>"
      ],
      "text/plain": [
       "           accuracy  precision  recall  f1_score\n",
       "model                                           \n",
       "svm_tfidf     0.925      0.894   0.967     0.929\n",
       "lr_tfidf      0.917      0.881   0.967     0.922\n",
       "rf_ngram      0.917      0.892   0.951     0.921\n",
       "svm_ngram     0.917      0.892   0.951     0.921\n",
       "lr_ngram      0.908      0.879   0.951     0.913\n",
       "rf_tfidf      0.892      0.853   0.951     0.899"
      ]
     },
     "execution_count": 22,
     "metadata": {},
     "output_type": "execute_result"
    }
   ],
   "source": [
    "test_result_cv"
   ]
  },
  {
   "cell_type": "code",
   "execution_count": 23,
   "metadata": {},
   "outputs": [
    {
     "data": {
      "text/html": [
       "<div>\n",
       "<style scoped>\n",
       "    .dataframe tbody tr th:only-of-type {\n",
       "        vertical-align: middle;\n",
       "    }\n",
       "\n",
       "    .dataframe tbody tr th {\n",
       "        vertical-align: top;\n",
       "    }\n",
       "\n",
       "    .dataframe thead tr th {\n",
       "        text-align: left;\n",
       "    }\n",
       "\n",
       "    .dataframe thead tr:last-of-type th {\n",
       "        text-align: right;\n",
       "    }\n",
       "</style>\n",
       "<table border=\"1\" class=\"dataframe\">\n",
       "  <thead>\n",
       "    <tr>\n",
       "      <th></th>\n",
       "      <th colspan=\"4\" halign=\"left\">base</th>\n",
       "      <th colspan=\"4\" halign=\"left\">cv</th>\n",
       "    </tr>\n",
       "    <tr>\n",
       "      <th></th>\n",
       "      <th>accuracy</th>\n",
       "      <th>precision</th>\n",
       "      <th>recall</th>\n",
       "      <th>f1_score</th>\n",
       "      <th>accuracy</th>\n",
       "      <th>precision</th>\n",
       "      <th>recall</th>\n",
       "      <th>f1_score</th>\n",
       "    </tr>\n",
       "    <tr>\n",
       "      <th>model</th>\n",
       "      <th></th>\n",
       "      <th></th>\n",
       "      <th></th>\n",
       "      <th></th>\n",
       "      <th></th>\n",
       "      <th></th>\n",
       "      <th></th>\n",
       "      <th></th>\n",
       "    </tr>\n",
       "  </thead>\n",
       "  <tbody>\n",
       "    <tr>\n",
       "      <th>lr_ngram</th>\n",
       "      <td>0.891667</td>\n",
       "      <td>0.875000</td>\n",
       "      <td>0.918033</td>\n",
       "      <td>0.896000</td>\n",
       "      <td>0.908333</td>\n",
       "      <td>0.878788</td>\n",
       "      <td>0.950820</td>\n",
       "      <td>0.913386</td>\n",
       "    </tr>\n",
       "    <tr>\n",
       "      <th>lr_tfidf</th>\n",
       "      <td>0.850000</td>\n",
       "      <td>0.820896</td>\n",
       "      <td>0.901639</td>\n",
       "      <td>0.859375</td>\n",
       "      <td>0.916667</td>\n",
       "      <td>0.880597</td>\n",
       "      <td>0.967213</td>\n",
       "      <td>0.921875</td>\n",
       "    </tr>\n",
       "    <tr>\n",
       "      <th>rf_tfidf</th>\n",
       "      <td>0.866667</td>\n",
       "      <td>0.816901</td>\n",
       "      <td>0.950820</td>\n",
       "      <td>0.878788</td>\n",
       "      <td>0.891667</td>\n",
       "      <td>0.852941</td>\n",
       "      <td>0.950820</td>\n",
       "      <td>0.899225</td>\n",
       "    </tr>\n",
       "    <tr>\n",
       "      <th>rf_ngram</th>\n",
       "      <td>0.883333</td>\n",
       "      <td>0.873016</td>\n",
       "      <td>0.901639</td>\n",
       "      <td>0.887097</td>\n",
       "      <td>0.916667</td>\n",
       "      <td>0.892308</td>\n",
       "      <td>0.950820</td>\n",
       "      <td>0.920635</td>\n",
       "    </tr>\n",
       "    <tr>\n",
       "      <th>svm_tfidf</th>\n",
       "      <td>0.908333</td>\n",
       "      <td>0.878788</td>\n",
       "      <td>0.950820</td>\n",
       "      <td>0.913386</td>\n",
       "      <td>0.925000</td>\n",
       "      <td>0.893939</td>\n",
       "      <td>0.967213</td>\n",
       "      <td>0.929134</td>\n",
       "    </tr>\n",
       "    <tr>\n",
       "      <th>svm_ngram</th>\n",
       "      <td>0.916667</td>\n",
       "      <td>0.880597</td>\n",
       "      <td>0.967213</td>\n",
       "      <td>0.921875</td>\n",
       "      <td>0.916667</td>\n",
       "      <td>0.892308</td>\n",
       "      <td>0.950820</td>\n",
       "      <td>0.920635</td>\n",
       "    </tr>\n",
       "  </tbody>\n",
       "</table>\n",
       "</div>"
      ],
      "text/plain": [
       "               base                                      cv            \\\n",
       "           accuracy precision    recall  f1_score  accuracy precision   \n",
       "model                                                                   \n",
       "lr_ngram   0.891667  0.875000  0.918033  0.896000  0.908333  0.878788   \n",
       "lr_tfidf   0.850000  0.820896  0.901639  0.859375  0.916667  0.880597   \n",
       "rf_tfidf   0.866667  0.816901  0.950820  0.878788  0.891667  0.852941   \n",
       "rf_ngram   0.883333  0.873016  0.901639  0.887097  0.916667  0.892308   \n",
       "svm_tfidf  0.908333  0.878788  0.950820  0.913386  0.925000  0.893939   \n",
       "svm_ngram  0.916667  0.880597  0.967213  0.921875  0.916667  0.892308   \n",
       "\n",
       "                               \n",
       "             recall  f1_score  \n",
       "model                          \n",
       "lr_ngram   0.950820  0.913386  \n",
       "lr_tfidf   0.967213  0.921875  \n",
       "rf_tfidf   0.950820  0.899225  \n",
       "rf_ngram   0.950820  0.920635  \n",
       "svm_tfidf  0.967213  0.929134  \n",
       "svm_ngram  0.950820  0.920635  "
      ]
     },
     "execution_count": 23,
     "metadata": {},
     "output_type": "execute_result"
    }
   ],
   "source": [
    "result_comparison"
   ]
  },
  {
   "cell_type": "code",
   "execution_count": 36,
   "metadata": {},
   "outputs": [
    {
     "data": {
      "text/html": [
       "<div>\n",
       "<style scoped>\n",
       "    .dataframe tbody tr th:only-of-type {\n",
       "        vertical-align: middle;\n",
       "    }\n",
       "\n",
       "    .dataframe tbody tr th {\n",
       "        vertical-align: top;\n",
       "    }\n",
       "\n",
       "    .dataframe thead tr th {\n",
       "        text-align: left;\n",
       "    }\n",
       "\n",
       "    .dataframe thead tr:last-of-type th {\n",
       "        text-align: right;\n",
       "    }\n",
       "</style>\n",
       "<table border=\"1\" class=\"dataframe\">\n",
       "  <thead>\n",
       "    <tr>\n",
       "      <th></th>\n",
       "      <th>base</th>\n",
       "      <th>cv</th>\n",
       "    </tr>\n",
       "    <tr>\n",
       "      <th></th>\n",
       "      <th>accuracy</th>\n",
       "      <th>accuracy</th>\n",
       "    </tr>\n",
       "    <tr>\n",
       "      <th>model</th>\n",
       "      <th></th>\n",
       "      <th></th>\n",
       "    </tr>\n",
       "  </thead>\n",
       "  <tbody>\n",
       "    <tr>\n",
       "      <th>lr_ngram</th>\n",
       "      <td>0.891667</td>\n",
       "      <td>0.908333</td>\n",
       "    </tr>\n",
       "    <tr>\n",
       "      <th>lr_tfidf</th>\n",
       "      <td>0.850000</td>\n",
       "      <td>0.916667</td>\n",
       "    </tr>\n",
       "    <tr>\n",
       "      <th>rf_tfidf</th>\n",
       "      <td>0.866667</td>\n",
       "      <td>0.891667</td>\n",
       "    </tr>\n",
       "    <tr>\n",
       "      <th>rf_ngram</th>\n",
       "      <td>0.883333</td>\n",
       "      <td>0.916667</td>\n",
       "    </tr>\n",
       "    <tr>\n",
       "      <th>svm_tfidf</th>\n",
       "      <td>0.908333</td>\n",
       "      <td>0.925000</td>\n",
       "    </tr>\n",
       "    <tr>\n",
       "      <th>svm_ngram</th>\n",
       "      <td>0.916667</td>\n",
       "      <td>0.916667</td>\n",
       "    </tr>\n",
       "  </tbody>\n",
       "</table>\n",
       "</div>"
      ],
      "text/plain": [
       "               base        cv\n",
       "           accuracy  accuracy\n",
       "model                        \n",
       "lr_ngram   0.891667  0.908333\n",
       "lr_tfidf   0.850000  0.916667\n",
       "rf_tfidf   0.866667  0.891667\n",
       "rf_ngram   0.883333  0.916667\n",
       "svm_tfidf  0.908333  0.925000\n",
       "svm_ngram  0.916667  0.916667"
      ]
     },
     "execution_count": 36,
     "metadata": {},
     "output_type": "execute_result"
    }
   ],
   "source": [
    "accuracy_comparison = result_comparison.loc[:, [('base', 'accuracy'), ('cv', 'accuracy')]]\n",
    "accuracy_comparison"
   ]
  },
  {
   "cell_type": "code",
   "execution_count": 54,
   "metadata": {},
   "outputs": [],
   "source": [
    "accuracy_comparison['increase'] = (accuracy_comparison[('cv', 'accuracy')] - accuracy_comparison[('base', 'accuracy')]) / accuracy_comparison[('base', 'accuracy')] * 100"
   ]
  },
  {
   "cell_type": "code",
   "execution_count": 61,
   "metadata": {},
   "outputs": [
    {
     "data": {
      "text/plain": [
       "<matplotlib.legend.Legend at 0x141308640>"
      ]
     },
     "execution_count": 61,
     "metadata": {},
     "output_type": "execute_result"
    },
    {
     "data": {
      "image/png": "[encoded data removed]",
      "text/plain": [
       "<Figure size 1000x800 with 1 Axes>"
      ]
     },
     "metadata": {},
     "output_type": "display_data"
    }
   ],
   "source": [
    "accuracy_comparison.loc[:,[('base','accuracy'), ('cv','accuracy')]].plot(kind='bar', figsize=(10, 8), width=0.8)\n",
    "plt.xticks(rotation=0)\n",
    "plt.ylabel('Accuracy')\n",
    "plt.ylim(0, 1.05)\n",
    "plt.legend(title='Model', labels=['baseline', 'tuend'], loc='upper left')"
   ]
  },
  {
   "cell_type": "code",
   "execution_count": null,
   "metadata": {},
   "outputs": [
    {
     "data": {
      "text/plain": [
       "(0.0, 1.05)"
      ]
     },
     "execution_count": 81,
     "metadata": {},
     "output_type": "execute_result"
    },
    {
     "data": {
      "image/png": "[encoded data removed]",
      "text/plain": [
       "<Figure size 800x600 with 1 Axes>"
      ]
     },
     "metadata": {},
     "output_type": "display_data"
    }
   ],
   "source": [
    "# Create barplot with improved color palette and value annotations\n",
    "plt.figure(figsize=(8, 6))\n",
    "sns.barplot(x='model', y='accuracy', data=test_result_base.reset_index(), color='skyblue')\n",
    "\n",
    "# Add value labels on top of each bar\n",
    "for index, row in test_result_base.reset_index().iterrows():\n",
    "    plt.text(index, row['accuracy'] + 0.01, f\"{row['accuracy']:.2f}\", ha='center', va='bottom')\n",
    "\n",
    "# Set plot labels and title\n",
    "plt.xlabel('Model')\n",
    "plt.ylabel('Accuracy')\n",
    "# plt.title('Model Accuracy Comparison')\n",
    "# plt.xticks(rotation=45)\n",
    "plt.ylim(0, 1.05)  # Ensures space for the label on top"
   ]
  }
 ],
 "metadata": {
  "kernelspec": {
   "display_name": "py39",
   "language": "python",
   "name": "python3"
  },
  "language_info": {
   "codemirror_mode": {
    "name": "ipython",
    "version": 3
   },
   "file_extension": ".py",
   "mimetype": "text/x-python",
   "name": "python",
   "nbconvert_exporter": "python",
   "pygments_lexer": "ipython3",
   "version": "3.9.19"
  }
 },
 "nbformat": 4,
 "nbformat_minor": 2
}
