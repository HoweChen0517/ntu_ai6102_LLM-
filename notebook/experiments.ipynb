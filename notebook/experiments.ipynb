{
 "cells": [
  {
   "cell_type": "code",
   "execution_count": 1,
   "metadata": {},
   "outputs": [],
   "source": [
    "import os\n",
    "from os import listdir, path\n",
    "import math\n",
    "import pandas as pd\n",
    "import warnings\n",
    "\n",
    "from sklearn.feature_extraction.text import CountVectorizer\n",
    "from sklearn.decomposition import TruncatedSVD\n",
    "from sklearn.pipeline import Pipeline\n",
    "from sklearn.preprocessing import Normalizer\n",
    "from sklearn.utils import shuffle\n",
    "from sklearn.linear_model import LogisticRegression\n",
    "from sklearn.metrics import classification_report, accuracy_score\n",
    "from sklearn.model_selection import GridSearchCV"
   ]
  },
  {
   "cell_type": "code",
   "execution_count": 2,
   "metadata": {},
   "outputs": [
    {
     "name": "stdout",
     "output_type": "stream",
     "text": [
      "current working directory: f:\\NTU Learn\\Machine Learning Methods & Application\\ntu_ai6102_LLM_privacy_leakage_detection\n"
     ]
    }
   ],
   "source": [
    "if os.getcwd().endswith('notebook'):\n",
    "    os.chdir('..')\n",
    "print('current working directory:', os.getcwd())"
   ]
  },
  {
   "cell_type": "code",
   "execution_count": 4,
   "metadata": {},
   "outputs": [],
   "source": [
    "def load_data(dataPath):\n",
    "    with open(dataPath, 'r', encoding='utf-8') as f:\n",
    "        data = f.readlines()\n",
    "\n",
    "    data = [line.strip().split('\\t') for line in data]\n",
    "    data = pd.DataFrame(data, columns=['label', 'output'])\n",
    "\n",
    "    return data"
   ]
  },
  {
   "cell_type": "code",
   "execution_count": 5,
   "metadata": {},
   "outputs": [],
   "source": [
    "train_data = load_data('data/train_data.txt')\n",
    "test_data = load_data('data/test_data.txt')"
   ]
  },
  {
   "cell_type": "code",
   "execution_count": null,
   "metadata": {},
   "outputs": [],
   "source": [
    "def trainLRwithNgram(trainData):\n",
    "    pipe = Pipeline(\n",
    "        [\n",
    "            ('ngram', CountVectorizer(ngram_range=(1, 2),  \n",
    "                                    stop_words='english',\n",
    "                                    max_features=200)),\n",
    "            ('svd', TruncatedSVD(n_components=100)),\n",
    "            ('norm', Normalizer()),\n",
    "            ('clf', LogisticRegression(random_state=42))\n",
    "        ]\n",
    "    )\n",
    "    pipe.fit(trainData['output'], trainData['label'])\n",
    "    return pipe"
   ]
  },
  {
   "cell_type": "code",
   "execution_count": null,
   "metadata": {},
   "outputs": [],
   "source": [
    "clf = LogisticRegression(random_state=0, max_iter=1000)\n"
   ]
  }
 ],
 "metadata": {
  "kernelspec": {
   "display_name": "ntu_ai6102_GP",
   "language": "python",
   "name": "python3"
  },
  "language_info": {
   "codemirror_mode": {
    "name": "ipython",
    "version": 3
   },
   "file_extension": ".py",
   "mimetype": "text/x-python",
   "name": "python",
   "nbconvert_exporter": "python",
   "pygments_lexer": "ipython3",
   "version": "3.9.20"
  }
 },
 "nbformat": 4,
 "nbformat_minor": 2
}
